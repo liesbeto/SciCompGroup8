{
 "cells": [
  {
   "cell_type": "code",
   "execution_count": 5,
   "metadata": {},
   "outputs": [],
   "source": [
    "import numpy as np\n",
    "import time\n",
    "import copy\n",
    "import random\n",
    "import typing\n",
    "\n",
    "import matplotlib.pyplot as plt\n",
    "from matplotlib.animation import FuncAnimation\n",
    "from matplotlib import cm\n",
    "from scipy.special import erfc\n",
    "\n",
    "from vibrating_string import VibratingString\n",
    "from visualisation import create_animation_vibstring, vibrating_string_graphs\n",
    "from visualisation import compare_analytic_solutions\n",
    "from visualisation import compare_numerical_methods\n",
    "from visualisation import compare_iterative_methods\n",
    "from visualisation import tolerances_comparison\n",
    "from visualisation import optimal_omega\n",
    "from visualisation import plot_omega_vs_N\n",
    "from mask_method import run_experiments_on_mask"
   ]
  },
  {
   "cell_type": "markdown",
   "metadata": {},
   "source": [
    "This Python Notebook helps visualize and run the neccesary code for Assignment 1 of Scientific Computing."
   ]
  },
  {
   "cell_type": "markdown",
   "metadata": {},
   "source": [
    "The following variables set the initial conditions to be used throughout the code."
   ]
  },
  {
   "cell_type": "code",
   "execution_count": 2,
   "metadata": {},
   "outputs": [],
   "source": [
    "\n",
    "N = 50                  # Number of grid points in each dimension (50x50 grid)\n",
    "L = 1.0                 # Length of the domain (1.0 unit)\n",
    "dx = L / N              # Grid spacing (distance between grid points)\n",
    "D = 1.0                 # Diffusion coefficient (controls the rate of diffusion)\n",
    "dt = 0.25 * dx**2 / D   # Time step size based on stability criteria\n",
    "T = 1.0                 # Total simulation time\n",
    "c = 1.0\n",
    "timesteps = [0, 0.1, 0.25, 0.5, 0.7]"
   ]
  },
  {
   "cell_type": "markdown",
   "metadata": {},
   "source": [
    "### Vibrating String"
   ]
  },
  {
   "cell_type": "code",
   "execution_count": null,
   "metadata": {},
   "outputs": [],
   "source": [
    "def initial_condition1(x, L, N):\n",
    "    return np.sin(2*np.pi*x)\n",
    "\n",
    "def initial_condition2(x, L, N):\n",
    "    return np.sin(5*np.pi*x)\n",
    "\n",
    "def initial_condition3(x, L, N):\n",
    "    if (0.2*L < x*N < 0.4*L):\n",
    "        return np.sin(5*np.pi*x)\n",
    "    else:\n",
    "        return 0"
   ]
  },
  {
   "cell_type": "code",
   "execution_count": null,
   "metadata": {},
   "outputs": [],
   "source": [
    "L = 1.0\n",
    "N = 1000\n",
    "c = 1.0\n",
    "T = 1.0\n",
    "\n",
    "displacement_func = initial_condition1\n",
    "vib_string = VibratingString(displacement_func, L, T, N, c)\n",
    "vib_string.u = vib_string.stepping_method(vib_string.u)\n",
    "fig, ax = vibrating_string_graphs(vib_string, timesteps = [0, 100, 250, 500, 700])\n",
    "\n",
    "displacement_func = initial_condition2\n",
    "vib_string2 = VibratingString(displacement_func, L, T, N, c)\n",
    "vib_string2.u = vib_string2.stepping_method(vib_string2.u)\n",
    "fig, ax = vibrating_string_graphs(vib_string2, timesteps = [0, 100, 250, 500, 700])\n",
    "\n",
    "displacement_func = initial_condition3\n",
    "vib_string3 = VibratingString(displacement_func, L, T, N, c)\n",
    "vib_string3.u = vib_string2.stepping_method(vib_string3.u)\n",
    "fig, ax = vibrating_string_graphs(vib_string3, timesteps = [0, 100, 250, 500, 700])"
   ]
  },
  {
   "cell_type": "markdown",
   "metadata": {},
   "source": [
    "### Animated plots\n",
    "The animated plots are run and saved in the results folder."
   ]
  },
  {
   "cell_type": "code",
   "execution_count": null,
   "metadata": {},
   "outputs": [],
   "source": [
    "# Generate an animation\n",
    "ani = create_animation_vibstring(vib_string1)\n",
    "ani.save('diffusion_animation_str1.gif', writer='pillow', fps=15)\n",
    "ani = create_animation_vibstring(vib_string2)\n",
    "ani.save('diffusion_animation_str2.gif', writer='pillow', fps=15)\n",
    "ani = create_animation_vibstring(vib_string3)\n",
    "ani.save('diffusion_animation_str3.gif', writer='pillow', fps=15)"
   ]
  },
  {
   "cell_type": "markdown",
   "metadata": {},
   "source": [
    "1.D, 1.E and 1.F, 1.G: "
   ]
  },
  {
   "cell_type": "code",
   "execution_count": 7,
   "metadata": {},
   "outputs": [
    {
     "name": "stdout",
     "output_type": "stream",
     "text": [
      "Converged after 4067 iterations\n"
     ]
    },
    {
     "ename": "TypeError",
     "evalue": "'int' object is not subscriptable",
     "output_type": "error",
     "traceback": [
      "\u001b[0;31m---------------------------------------------------------------------------\u001b[0m",
      "\u001b[0;31mTypeError\u001b[0m                                 Traceback (most recent call last)",
      "Cell \u001b[0;32mIn[7], line 12\u001b[0m\n\u001b[1;32m      9\u001b[0m T \u001b[38;5;241m=\u001b[39m \u001b[38;5;241m1.0\u001b[39m   \n\u001b[1;32m     11\u001b[0m \u001b[38;5;66;03m#compare_analytic_solutions(N, L, D, dx, dt, T, method = 'Explicit')\u001b[39;00m\n\u001b[0;32m---> 12\u001b[0m compare_analytic_solutions(N, L, D, dx, dt, T, method \u001b[38;5;241m=\u001b[39m \u001b[38;5;124m'\u001b[39m\u001b[38;5;124mJacobi\u001b[39m\u001b[38;5;124m'\u001b[39m)\n\u001b[1;32m     13\u001b[0m compare_analytic_solutions(N, L, D, dx, dt, T, method \u001b[38;5;241m=\u001b[39m \u001b[38;5;124m'\u001b[39m\u001b[38;5;124mGauss\u001b[39m\u001b[38;5;124m'\u001b[39m)\n\u001b[1;32m     14\u001b[0m compare_analytic_solutions(N, L, D, dx, dt, T, method \u001b[38;5;241m=\u001b[39m \u001b[38;5;124m'\u001b[39m\u001b[38;5;124mSOR\u001b[39m\u001b[38;5;124m'\u001b[39m)\n",
      "File \u001b[0;32m~/Scientific Computing/SciCompGroup8/src/visualisation.py:231\u001b[0m, in \u001b[0;36mcompare_analytic_solutions\u001b[0;34m(N, L, D, dx, dt, T, method)\u001b[0m\n\u001b[1;32m    229\u001b[0m     idx \u001b[38;5;241m=\u001b[39m np\u001b[38;5;241m.\u001b[39margmin(np\u001b[38;5;241m.\u001b[39mabs(np\u001b[38;5;241m.\u001b[39marray(time_points) \u001b[38;5;241m-\u001b[39m target))\n\u001b[1;32m    230\u001b[0m     selected_indices\u001b[38;5;241m.\u001b[39mappend(idx)\n\u001b[0;32m--> 231\u001b[0m     selected_times\u001b[38;5;241m.\u001b[39mappend(time_points[idx])\n\u001b[1;32m    233\u001b[0m validate_against_analytical(x_points, [time_points[i] \n\u001b[1;32m    234\u001b[0m     \u001b[38;5;28;01mfor\u001b[39;00m i \u001b[38;5;129;01min\u001b[39;00m selected_indices], D, [c_history[i] \u001b[38;5;28;01mfor\u001b[39;00m i \u001b[38;5;129;01min\u001b[39;00m selected_indices], \n\u001b[1;32m    235\u001b[0m     N)\n\u001b[1;32m    236\u001b[0m plot_2d_concentration([time_points[i] \u001b[38;5;28;01mfor\u001b[39;00m i \u001b[38;5;129;01min\u001b[39;00m selected_indices], \n\u001b[1;32m    237\u001b[0m     [c_history[i] \u001b[38;5;28;01mfor\u001b[39;00m i \u001b[38;5;129;01min\u001b[39;00m selected_indices], N, dx)\n",
      "\u001b[0;31mTypeError\u001b[0m: 'int' object is not subscriptable"
     ]
    }
   ],
   "source": [
    "# Simulation parameters\n",
    "N = 50      # Number of grid points (must be square grid for provided update function)\n",
    "L = 1.0   # Domain size\n",
    "dx= L/(N-1)  # Grid spacing\n",
    "D = 1.0              # Diffusion coefficient\n",
    "\n",
    "# # Stability-limited time step\n",
    "dt = 0.24 * dx**2 / D  \n",
    "T = 1.0   \n",
    "\n",
    "compare_analytic_solutions(N, L, D, dx, dt, T, method = 'Jacobi')\n",
    "compare_analytic_solutions(N, L, D, dx, dt, T, method = 'Gauss')\n",
    "compare_analytic_solutions(N, L, D, dx, dt, T, method = 'SOR')"
   ]
  },
  {
   "cell_type": "markdown",
   "metadata": {},
   "source": [
    "### 1.H Comparing different Numerical Methods with Analytical Solution\n",
    "Successive Over Relaxation requires least amount of iterations $(424)$ to converge at the solution followed by Gauss-Seidel $(2406)$ and Jacobi $(4067)$ Iteration Methods "
   ]
  },
  {
   "cell_type": "code",
   "execution_count": null,
   "metadata": {},
   "outputs": [],
   "source": [
    "compare_numerical_methods(N, D, dx, dt, T, L, methods=['Jacobi'])\n",
    "compare_numerical_methods(N, D, dx, dt, T, L, methods=['Gauss-Seidel'])\n",
    "compare_numerical_methods(N, D, dx, dt, T, L, methods=['SOR'], omega=1.8)"
   ]
  },
  {
   "cell_type": "markdown",
   "metadata": {},
   "source": [
    "### 1.I Showing how convergence mesasure depends on the number of iterations $k$"
   ]
  },
  {
   "cell_type": "code",
   "execution_count": null,
   "metadata": {},
   "outputs": [],
   "source": [
    "compare_iterative_methods(N, D, dx, dt, T, tol=1e-5)"
   ]
  },
  {
   "cell_type": "markdown",
   "metadata": {},
   "source": [
    "Please note that the function below may run for several minutes."
   ]
  },
  {
   "cell_type": "code",
   "execution_count": null,
   "metadata": {},
   "outputs": [],
   "source": [
    "tol_values = np.logspace(-5, -12, 5)\n",
    "tolerances_comparison(N, D, dx, dt, T, tol_values)"
   ]
  },
  {
   "cell_type": "markdown",
   "metadata": {},
   "source": [
    "### 1.J Finding Optimal $(\\omega)$ for minimum number of Iterations in the SOR Method"
   ]
  },
  {
   "cell_type": "code",
   "execution_count": null,
   "metadata": {},
   "outputs": [],
   "source": [
    "omega_list = np.linspace(1.8, 1.90, 20)\n",
    "optimal_omega(N, D, dx, dt, T, tol=1e-5, omega_list= omega_list)"
   ]
  },
  {
   "cell_type": "markdown",
   "metadata": {},
   "source": [
    "Please note that the code below may run for several minutes."
   ]
  },
  {
   "cell_type": "code",
   "execution_count": null,
   "metadata": {},
   "outputs": [],
   "source": [
    "# Example parameters for running the function\n",
    "N_values = [10, 30, 50, 100]\n",
    "\n",
    "\n",
    "plot_omega_vs_N(N_values, D, dt, T)"
   ]
  },
  {
   "cell_type": "markdown",
   "metadata": {},
   "source": [
    "### 1.K Implementing Sinks in the Grid"
   ]
  },
  {
   "cell_type": "code",
   "execution_count": 3,
   "metadata": {},
   "outputs": [
    {
     "name": "stdout",
     "output_type": "stream",
     "text": [
      "\n",
      "Running simulation with mask at (0.75, 0.5), ω=1.5\n",
      "Converged after 621 iterations\n"
     ]
    },
    {
     "data": {
      "image/png": "[encoded data removed]",
      "text/plain": [
       "<Figure size 1000x800 with 2 Axes>"
      ]
     },
     "metadata": {},
     "output_type": "display_data"
    },
    {
     "name": "stdout",
     "output_type": "stream",
     "text": [
      "\n",
      "Running simulation with mask at (0.75, 0.5), ω=1.5285714285714285\n",
      "Converged after 586 iterations\n",
      "\n",
      "Running simulation with mask at (0.75, 0.5), ω=1.5571428571428572\n",
      "Converged after 551 iterations\n",
      "\n",
      "Running simulation with mask at (0.75, 0.5), ω=1.5857142857142856\n",
      "Converged after 516 iterations\n",
      "\n",
      "Running simulation with mask at (0.75, 0.5), ω=1.6142857142857143\n",
      "Converged after 482 iterations\n",
      "\n",
      "Running simulation with mask at (0.75, 0.5), ω=1.6428571428571428\n",
      "Converged after 449 iterations\n",
      "\n",
      "Running simulation with mask at (0.75, 0.5), ω=1.6714285714285713\n",
      "Converged after 416 iterations\n",
      "\n",
      "Running simulation with mask at (0.75, 0.5), ω=1.7\n",
      "Converged after 384 iterations\n",
      "\n",
      "Running simulation with mask at (0.75, 0.5), ω=1.7285714285714284\n",
      "Converged after 352 iterations\n",
      "\n",
      "Running simulation with mask at (0.75, 0.5), ω=1.7571428571428571\n",
      "Converged after 320 iterations\n",
      "\n",
      "Running simulation with mask at (0.75, 0.5), ω=1.7857142857142856\n",
      "Converged after 289 iterations\n",
      "\n",
      "Running simulation with mask at (0.75, 0.5), ω=1.8142857142857143\n",
      "Converged after 258 iterations\n",
      "\n",
      "Running simulation with mask at (0.75, 0.5), ω=1.8428571428571427\n",
      "Converged after 226 iterations\n",
      "\n",
      "Running simulation with mask at (0.75, 0.5), ω=1.8714285714285714\n",
      "Converged after 201 iterations\n",
      "\n",
      "Running simulation with mask at (0.75, 0.5), ω=1.9\n",
      "Converged after 282 iterations\n"
     ]
    },
    {
     "ename": "NameError",
     "evalue": "name 'plot_iterations' is not defined",
     "output_type": "error",
     "traceback": [
      "\u001b[0;31m---------------------------------------------------------------------------\u001b[0m",
      "\u001b[0;31mNameError\u001b[0m                                 Traceback (most recent call last)",
      "Cell \u001b[0;32mIn[3], line 1\u001b[0m\n\u001b[0;32m----> 1\u001b[0m run_experiments_on_mask(N, D, dx, T, dt)\n",
      "File \u001b[0;32m~/Scientific Computing/SciCompGroup8/src/mask_method.py:179\u001b[0m, in \u001b[0;36mrun_experiments_on_mask\u001b[0;34m(N, D, dx, T, dt)\u001b[0m\n\u001b[1;32m    176\u001b[0m         plot_concentration_for_omega(omega, c_history, mask_config, dx)\n\u001b[1;32m    178\u001b[0m \u001b[38;5;66;03m# Plots omega vs number of iterations\u001b[39;00m\n\u001b[0;32m--> 179\u001b[0m plot_iterations(omega_values, iterations_list)\n\u001b[1;32m    181\u001b[0m \u001b[38;5;28;01mreturn\u001b[39;00m results\n",
      "\u001b[0;31mNameError\u001b[0m: name 'plot_iterations' is not defined"
     ]
    }
   ],
   "source": [
    "run_experiments_on_mask(N, D, dx, T, dt)"
   ]
  }
 ],
 "metadata": {
  "kernelspec": {
   "display_name": "base",
   "language": "python",
   "name": "python3"
  },
  "language_info": {
   "codemirror_mode": {
    "name": "ipython",
    "version": 3
   },
   "file_extension": ".py",
   "mimetype": "text/x-python",
   "name": "python",
   "nbconvert_exporter": "python",
   "pygments_lexer": "ipython3",
   "version": "3.12.4"
  }
 },
 "nbformat": 4,
 "nbformat_minor": 2
}
